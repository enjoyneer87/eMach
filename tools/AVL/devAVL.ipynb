{
 "cells": [
  {
   "cell_type": "code",
   "execution_count": 1,
   "metadata": {},
   "outputs": [],
   "source": [
    "import sys\n",
    "sys.path.append(r'C:\\Program Files (x86)\\AVL\\R2022.2\\user_python')\n"
   ]
  },
  {
   "cell_type": "code",
   "execution_count": null,
   "metadata": {},
   "outputs": [],
   "source": [
    "from __future__ import print_function\n",
    "import sdt.project\n",
    "import sdt.excite\n",
    "\n",
    "project = sdt.project.create_project()\n",
    "model = project.create_model('excite_eaxle')\n",
    "\n",
    "## gear assembly\n",
    "gearBox = model.insert(model.root, 'gearbox')\n",
    "\n",
    "# gear element\n",
    "gg = model.insert(gearBox, 'gearbox Globals')\n",
    "\n",
    "## Motor Rotor\n",
    "# generic shaft -> rotor\n",
    "\n",
    "# shaft bearing seat \n",
    "\n",
    "\n",
    "## Planetary Gearset \n",
    "pgs = model.insert(model.root, 'Planetary Gearset')\n",
    "\n",
    "\n",
    "## Ring Housing\n",
    "\n",
    "## Reducer \n",
    "\n",
    "# Generic Shaft -> Reducer Shaft (Input Shaft)\n",
    "\n",
    "## Wheel\n",
    "# \n",
    "# Reducer Shaft (Output Shaft) -> Wheel Hub\n",
    "\n",
    "\n",
    "\n",
    "## chassis\n",
    "\n",
    "# chassis node\n",
    "\n",
    "\n",
    "## Joint Definitions\n",
    "\n",
    "\n",
    "\n"
   ]
  }
 ],
 "metadata": {
  "kernelspec": {
   "display_name": "pcan152",
   "language": "python",
   "name": "python3"
  },
  "language_info": {
   "codemirror_mode": {
    "name": "ipython",
    "version": 3
   },
   "file_extension": ".py",
   "mimetype": "text/x-python",
   "name": "python",
   "nbconvert_exporter": "python",
   "pygments_lexer": "ipython3",
   "version": "3.9.7"
  }
 },
 "nbformat": 4,
 "nbformat_minor": 2
}
