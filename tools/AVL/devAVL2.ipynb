{
 "cells": [
  {
   "cell_type": "code",
   "execution_count": null,
   "metadata": {},
   "outputs": [],
   "source": [
    "import sys\n",
    "sys.path.append(r'C:\\Program Files (x86)\\AVL\\R2024.1\\user_python')\n",
    "import sdt.project\n",
    "import sdt.results\n",
    "\n",
    "PROJDIR=r'D:\\KangDH\\AVL'\n",
    "projects = sdt.results.get_projects(PROJDIR)\n",
    "resultObj_Altstadtlinie=projects[0].models[0].case_sets[0].cases[0]\n",
    "nodesObj=resultObj_Altstadtlinie.nodes\n",
    "type(resultObj_Altstadtlinie.nodes)\n",
    "matching_nodes = [node for node in resultObj_Altstadtlinie.nodes if 'final' in node.name]\n",
    "finaldriveCurves=matching_nodes[0].curves\n",
    "matching_Curve = [node for node in finaldriveCurves if 'torque' in node.name]\n",
    "data=matching_Curve[0].values"
   ]
  },
  {
   "cell_type": "code",
   "execution_count": null,
   "metadata": {},
   "outputs": [],
   "source": []
  }
 ],
 "metadata": {
  "language_info": {
   "name": "python"
  }
 },
 "nbformat": 4,
 "nbformat_minor": 2
}
